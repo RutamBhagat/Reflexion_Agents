{
 "cells": [
  {
   "cell_type": "code",
   "execution_count": 1,
   "metadata": {},
   "outputs": [],
   "source": [
    "from dotenv import load_dotenv, find_dotenv\n",
    "\n",
    "_ = load_dotenv(find_dotenv())"
   ]
  },
  {
   "cell_type": "code",
   "execution_count": 2,
   "metadata": {},
   "outputs": [],
   "source": [
    "import datetime\n",
    "from langchain.output_parsers import JsonOutputToolsParser, PydanticToolsParser\n",
    "from langchain.prompts import ChatPromptTemplate, MessagesPlaceholder\n",
    "from langchain.schema import HumanMessage\n",
    "from langchain_openai import ChatOpenAI"
   ]
  },
  {
   "cell_type": "code",
   "execution_count": 3,
   "metadata": {},
   "outputs": [],
   "source": [
    "actor_prompt_template = ChatPromptTemplate.from_messages(\n",
    "    [\n",
    "        (\n",
    "            \"system\",\n",
    "            \"\"\"You are an expert researcher.\n",
    "            Current Time: {time}\n",
    "            1. {first_instruction}\n",
    "            2. Reflect and critique your answer. Be severe to maximize improvement.\n",
    "            3. Recommend search queries to research information and improve your answer\n",
    "            (NOTE: You MUST provide the search queries at all costs)\"\"\"\n",
    "        ),\n",
    "        MessagesPlaceholder(variable_name=\"messages\")\n",
    "    ]\n",
    ")\n",
    "actor_prompt_template = actor_prompt_template.partial(time=lambda:datetime.datetime.now().isoformat())"
   ]
  },
  {
   "cell_type": "code",
   "execution_count": 4,
   "metadata": {},
   "outputs": [],
   "source": [
    "from schemas import AnswerQuestion\n",
    "\n",
    "\n",
    "llm = ChatOpenAI()\n",
    "parser_json = JsonOutputToolsParser(return_id=True)\n",
    "parser_pydantic = PydanticToolsParser(tools=[AnswerQuestion])"
   ]
  },
  {
   "cell_type": "code",
   "execution_count": 5,
   "metadata": {},
   "outputs": [],
   "source": [
    "first_responder_prompt_template = actor_prompt_template.partial(\n",
    "    first_instruction=\"Provide a detailed ~250 word answer\"\n",
    ")"
   ]
  },
  {
   "cell_type": "code",
   "execution_count": 6,
   "metadata": {},
   "outputs": [],
   "source": [
    "first_responder = first_responder_prompt_template | llm.bind_tools(\n",
    "    tools=[AnswerQuestion], tool_choice=\"AnswerQuestion\"\n",
    ")"
   ]
  },
  {
   "cell_type": "code",
   "execution_count": 7,
   "metadata": {},
   "outputs": [],
   "source": [
    "human_message = HumanMessage(\n",
    "    content=\"\"\"Write about AI-Powered SOC / autonomous SOC problem domain\n",
    "    List startups that do that and raised capital\"\"\"\n",
    ")"
   ]
  },
  {
   "cell_type": "code",
   "execution_count": 8,
   "metadata": {},
   "outputs": [],
   "source": [
    "chain = (\n",
    "    first_responder_prompt_template \n",
    "    | llm.bind_tools(tools=[AnswerQuestion], tool_choice=\"AnswerQuestion\")\n",
    "    | parser_pydantic\n",
    ")"
   ]
  },
  {
   "cell_type": "code",
   "execution_count": 10,
   "metadata": {},
   "outputs": [],
   "source": [
    "res = chain.invoke(input={\"messages\": [human_message]})"
   ]
  },
  {
   "cell_type": "code",
   "execution_count": 11,
   "metadata": {},
   "outputs": [
    {
     "name": "stdout",
     "output_type": "stream",
     "text": [
      "answer: The domain of AI-Powered Security Operations Centers (SOC) or Autonomous SOC involves the use of artificial intelligence and machine learning algorithms to enhance cybersecurity capabilities. These advanced systems can autonomously detect, analyze, and respond to security incidents in real-time, reducing the burden on human analysts and improving the overall security posture of an organization. AI-powered SOCs can handle a vast amount of data efficiently, identify patterns, and detect anomalies that may indicate potential threats, thus enabling proactive threat mitigation.\n",
      "\n",
      "Some startups that operate in this domain and have raised significant capital include Darktrace, which has pioneered AI-powered cybersecurity with its Autonomous Response technology; Vectra, a leader in AI-based threat detection and response; and Cynet, known for its autonomous breach protection platform. These startups have attracted substantial investments due to the increasing demand for advanced cybersecurity solutions that can combat sophisticated cyber threats effectively and efficiently.\n",
      "\n",
      "\n",
      "\n",
      "reflection: missing='The answer could benefit from providing more specific examples of the technologies used in AI-powered SOC solutions and how they differ from traditional SOC approaches.' superfluous=''\n",
      "\n",
      "\n",
      "\n",
      "search_queries: ['AI-Powered SOC technologies', 'Comparison of AI-powered SOC vs. traditional SOC', 'Startups in AI-powered cybersecurity domain', 'Funding rounds of Darktrace, Vectra, and Cynet']\n",
      "\n",
      "\n",
      "\n"
     ]
    }
   ],
   "source": [
    "for inst in res[0]:\n",
    "    print(inst[0], end=\": \")\n",
    "    print(inst[1])\n",
    "    print()\n",
    "    print()\n",
    "    print()"
   ]
  },
  {
   "cell_type": "code",
   "execution_count": 12,
   "metadata": {},
   "outputs": [],
   "source": [
    "revise_instructions = \"\"\"Revise your previous answer using the new information.\n",
    "You should use the previous critique to add important information to your answer.\n",
    "You MUST include numerical citations in your revised answer to ensure it can be verified.\n",
    "Add a \"References\" section to the bottom of your answer (which does not count towards the word limit).\n",
    "In the form of:\n",
    "- [1] https://example.com\n",
    "- [2] https://example.com\n",
    "You should use the previous critique to remove superfluous information from your answer and make SURE it is not more than 250 words\"\"\""
   ]
  },
  {
   "cell_type": "code",
   "execution_count": 14,
   "metadata": {},
   "outputs": [],
   "source": [
    "from schemas import ReviseAnswer\n",
    "\n",
    "revisor_prompt_template = actor_prompt_template.partial(first_instruction=revise_instructions)\n",
    "revisor = (\n",
    "    revisor_prompt_template\n",
    "    | llm.bind_tools(tools=[ReviseAnswer], tool_choice=\"ReviseAnswer\")\n",
    ")"
   ]
  }
 ],
 "metadata": {
  "kernelspec": {
   "display_name": ".venv",
   "language": "python",
   "name": "python3"
  },
  "language_info": {
   "codemirror_mode": {
    "name": "ipython",
    "version": 3
   },
   "file_extension": ".py",
   "mimetype": "text/x-python",
   "name": "python",
   "nbconvert_exporter": "python",
   "pygments_lexer": "ipython3",
   "version": "3.11.9"
  }
 },
 "nbformat": 4,
 "nbformat_minor": 2
}
