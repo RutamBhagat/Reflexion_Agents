{
 "cells": [
  {
   "cell_type": "code",
   "execution_count": 1,
   "metadata": {},
   "outputs": [],
   "source": [
    "from dotenv import load_dotenv, find_dotenv\n",
    "\n",
    "_ = load_dotenv(find_dotenv())"
   ]
  },
  {
   "cell_type": "code",
   "execution_count": 2,
   "metadata": {},
   "outputs": [],
   "source": [
    "import datetime\n",
    "from langchain.output_parsers import JsonOutputToolsParser, PydanticToolsParser\n",
    "from langchain.prompts import ChatPromptTemplate, MessagesPlaceholder\n",
    "from langchain.schema import HumanMessage\n",
    "from langchain_openai import ChatOpenAI"
   ]
  },
  {
   "cell_type": "code",
   "execution_count": 3,
   "metadata": {},
   "outputs": [],
   "source": [
    "actor_prompt_template = ChatPromptTemplate.from_messages(\n",
    "    [\n",
    "        (\n",
    "            \"system\",\n",
    "            \"\"\"You are an expert researcher.\n",
    "            Current Time: {time}\n",
    "            1. {first_instruction}\n",
    "            2. Reflect and critique your answer. Be severe to maximize improvement.\n",
    "            3. Recommend search queries to research information and improve your answer\n",
    "            (NOTE: You MUST provide the search queries at all costs)\"\"\"\n",
    "        ),\n",
    "        MessagesPlaceholder(variable_name=\"messages\")\n",
    "    ]\n",
    ")\n",
    "actor_prompt_template = actor_prompt_template.partial(time=lambda:datetime.datetime.now().isoformat())"
   ]
  },
  {
   "cell_type": "code",
   "execution_count": 4,
   "metadata": {},
   "outputs": [],
   "source": [
    "from schemas import AnswerQuestion\n",
    "\n",
    "\n",
    "llm = ChatOpenAI()\n",
    "parser_json = JsonOutputToolsParser(return_id=True)\n",
    "parser_pydantic = PydanticToolsParser(tools=[AnswerQuestion])"
   ]
  },
  {
   "cell_type": "code",
   "execution_count": 5,
   "metadata": {},
   "outputs": [],
   "source": [
    "first_responder_prompt_template = actor_prompt_template.partial(\n",
    "    first_instruction=\"Provide a detailed ~250 word answer\"\n",
    ")"
   ]
  },
  {
   "cell_type": "code",
   "execution_count": 6,
   "metadata": {},
   "outputs": [],
   "source": [
    "first_responder = first_responder_prompt_template | llm.bind_tools(\n",
    "    tools=[AnswerQuestion], tool_choice=\"AnswerQuestion\"\n",
    ")"
   ]
  },
  {
   "cell_type": "code",
   "execution_count": 7,
   "metadata": {},
   "outputs": [],
   "source": [
    "human_message = HumanMessage(\n",
    "    content=\"\"\"Write about AI-Powered SOC / autonomous SOC problem domain\n",
    "    List startups that do that and raised capital\"\"\"\n",
    ")"
   ]
  },
  {
   "cell_type": "code",
   "execution_count": 8,
   "metadata": {},
   "outputs": [],
   "source": [
    "chain = (\n",
    "    first_responder_prompt_template \n",
    "    | llm.bind_tools(tools=[AnswerQuestion], tool_choice=\"AnswerQuestion\")\n",
    "    | parser_pydantic\n",
    ")"
   ]
  },
  {
   "cell_type": "code",
   "execution_count": 9,
   "metadata": {},
   "outputs": [],
   "source": [
    "res = chain.invoke(input={\"messages\": [human_message]})"
   ]
  },
  {
   "cell_type": "code",
   "execution_count": 10,
   "metadata": {},
   "outputs": [
    {
     "name": "stdout",
     "output_type": "stream",
     "text": [
      "answer: The domain of AI-Powered Security Operations Centers (SOC) or Autonomous SOC involves the use of artificial intelligence and machine learning algorithms to enhance the capabilities of traditional SOC teams. These AI-driven solutions can automate threat detection, response, and remediation processes, enabling faster and more effective security incident management. By leveraging AI, SOC teams can analyze vast amounts of security data in real-time, identify anomalies, predict potential threats, and respond proactively to cyberattacks.\n",
      "\n",
      "Some startups in this domain include:\n",
      "1. Darktrace: Darktrace's autonomous AI platform detects and responds to cyber threats in real-time.\n",
      "2. Vectra: Vectra provides an AI-driven threat detection and response platform for SOC teams.\n",
      "3. Cynet: Cynet offers an autonomous breach protection platform that combines AI and behavioral analytics for SOC operations.\n",
      "\n",
      "These startups have successfully raised significant capital to further develop their AI-powered SOC solutions and expand their market presence.\n",
      "\n",
      "\n",
      "\n",
      "reflection: missing='The answer could benefit from providing more details on the specific technologies used in AI-powered SOC solutions and the challenges they address in traditional SOC environments.' superfluous=''\n",
      "\n",
      "\n",
      "\n",
      "search_queries: ['AI technologies used in SOC solutions', 'Challenges in traditional SOC environments', 'Funding raised by Darktrace', 'Vectra startup funding', 'Cynet funding rounds']\n",
      "\n",
      "\n",
      "\n"
     ]
    }
   ],
   "source": [
    "for inst in res[0]:\n",
    "    print(inst[0], end=\": \")\n",
    "    print(inst[1])\n",
    "    print()\n",
    "    print()\n",
    "    print()"
   ]
  },
  {
   "cell_type": "code",
   "execution_count": 11,
   "metadata": {},
   "outputs": [],
   "source": [
    "revise_instructions = \"\"\"Revise your previous answer using the new information.\n",
    "You should use the previous critique to add important information to your answer.\n",
    "You MUST include numerical citations in your revised answer to ensure it can be verified.\n",
    "Add a \"References\" section to the bottom of your answer (which does not count towards the word limit).\n",
    "In the form of:\n",
    "- [1] https://example.com\n",
    "- [2] https://example.com\n",
    "You should use the previous critique to remove superfluous information from your answer and make SURE it is not more than 250 words\"\"\""
   ]
  },
  {
   "cell_type": "code",
   "execution_count": 12,
   "metadata": {},
   "outputs": [],
   "source": [
    "from schemas import ReviseAnswer\n",
    "\n",
    "revisor = (\n",
    "    actor_prompt_template.partial(first_instruction=revise_instructions)\n",
    "    | llm.bind_tools(tools=[ReviseAnswer], tool_choice=\"ReviseAnswer\")\n",
    ")"
   ]
  },
  {
   "cell_type": "code",
   "execution_count": null,
   "metadata": {},
   "outputs": [],
   "source": []
  }
 ],
 "metadata": {
  "kernelspec": {
   "display_name": ".venv",
   "language": "python",
   "name": "python3"
  },
  "language_info": {
   "codemirror_mode": {
    "name": "ipython",
    "version": 3
   },
   "file_extension": ".py",
   "mimetype": "text/x-python",
   "name": "python",
   "nbconvert_exporter": "python",
   "pygments_lexer": "ipython3",
   "version": "3.11.9"
  }
 },
 "nbformat": 4,
 "nbformat_minor": 2
}
