{
 "cells": [
  {
   "cell_type": "code",
   "execution_count": 36,
   "metadata": {},
   "outputs": [],
   "source": [
    "from dotenv import load_dotenv, find_dotenv\n",
    "\n",
    "_ = load_dotenv(find_dotenv())"
   ]
  },
  {
   "cell_type": "code",
   "execution_count": 37,
   "metadata": {},
   "outputs": [],
   "source": [
    "import datetime\n",
    "from langchain.output_parsers import JsonOutputToolsParser, PydanticToolsParser\n",
    "from langchain.prompts import ChatPromptTemplate, MessagesPlaceholder\n",
    "from langchain.schema import HumanMessage\n",
    "from langchain_openai import ChatOpenAI"
   ]
  },
  {
   "cell_type": "code",
   "execution_count": 38,
   "metadata": {},
   "outputs": [],
   "source": [
    "actor_prompt_template = ChatPromptTemplate.from_messages(\n",
    "    [\n",
    "        (\n",
    "            \"system\",\n",
    "            \"\"\"You are an expert researcher.\n",
    "            Current Time: {time}\n",
    "            1. {first_instruction}\n",
    "            2. Reflect and critique your answer. Be severe to maximize improvement.\n",
    "            3. Recommend search queries to research information and improve your answer\n",
    "            (NOTE: You must provide the search queries at all costs)\"\"\"\n",
    "        ),\n",
    "        MessagesPlaceholder(variable_name=\"messages\")\n",
    "    ]\n",
    ")\n",
    "actor_prompt_template = actor_prompt_template.partial(time=lambda:datetime.datetime.now().isoformat())"
   ]
  },
  {
   "cell_type": "code",
   "execution_count": 39,
   "metadata": {},
   "outputs": [],
   "source": [
    "from schemas import AnswerQuestion\n",
    "\n",
    "\n",
    "llm = ChatOpenAI()\n",
    "parser_json = JsonOutputToolsParser(return_id=True)\n",
    "parser_pydantic = PydanticToolsParser(tools=[AnswerQuestion])"
   ]
  },
  {
   "cell_type": "code",
   "execution_count": 40,
   "metadata": {},
   "outputs": [],
   "source": [
    "first_responder_prompt_template = actor_prompt_template.partial(\n",
    "    first_instruction=\"Provide a detailed ~250 word answer\"\n",
    ")"
   ]
  },
  {
   "cell_type": "code",
   "execution_count": 41,
   "metadata": {},
   "outputs": [],
   "source": [
    "first_responder = first_responder_prompt_template | llm.bind_tools(\n",
    "    tools=[AnswerQuestion], tool_choice=\"AnswerQuestion\"\n",
    ")"
   ]
  },
  {
   "cell_type": "code",
   "execution_count": 42,
   "metadata": {},
   "outputs": [],
   "source": [
    "human_message = HumanMessage(\n",
    "    content=\"\"\"Write about AI-Powered SOC / autonomous SOC problem domain\n",
    "    List startups that do that and raised capital\"\"\"\n",
    ")"
   ]
  },
  {
   "cell_type": "code",
   "execution_count": 43,
   "metadata": {},
   "outputs": [],
   "source": [
    "chain = (\n",
    "    first_responder_prompt_template \n",
    "    | llm.bind_tools(tools=[AnswerQuestion], tool_choice=\"AnswerQuestion\")\n",
    "    | parser_pydantic\n",
    ")"
   ]
  },
  {
   "cell_type": "code",
   "execution_count": 44,
   "metadata": {},
   "outputs": [],
   "source": [
    "res = chain.invoke(input={\"messages\": [human_message]})"
   ]
  },
  {
   "cell_type": "code",
   "execution_count": 59,
   "metadata": {},
   "outputs": [
    {
     "name": "stdout",
     "output_type": "stream",
     "text": [
      "answer: AI-Powered Security Operations Centers (SOC) or Autonomous SOC leverage artificial intelligence and machine learning to enhance threat detection, incident response, and overall cybersecurity posture. These solutions automate the monitoring of security events, analyze vast amounts of data to identify potential threats, and respond to incidents in real-time, reducing the workload on human analysts and improving response times. Autonomous SOCs are designed to proactively detect and mitigate cybersecurity threats before they cause significant damage.\n",
      "\n",
      "Some startups in this domain include:\n",
      "1. Darktrace: A leading AI cybersecurity company that has raised significant funding for its autonomous threat detection platform.\n",
      "2. Vectra: Known for its AI-driven cybersecurity solutions for real-time threat detection and response.\n",
      "3. Cynet: Offers a comprehensive autonomous breach protection platform powered by AI.\n",
      "4. Exabeam: Provides AI-powered security intelligence and analytics for SOC teams.\n",
      "5. SecBI: Specializes in autonomous investigation and response solutions for cybersecurity incidents.\n",
      "\n",
      "These startups have gained recognition for their innovative approaches to cybersecurity and have successfully raised capital to further develop their AI-powered SOC technologies.\n",
      "\n",
      "\n",
      "\n",
      "reflection: missing='The answer could benefit from explaining the specific challenges or limitations faced by AI-Powered SOC solutions, such as the need for skilled personnel to manage these systems or the potential for false positives in threat detection.' superfluous='The list of startups could be condensed to focus on key players or those with the most significant funding rounds.'\n",
      "\n",
      "\n",
      "\n",
      "search_queries: ['Challenges of AI-Powered SOC solutions', 'Top AI-Powered SOC startups', 'Funding rounds of AI cybersecurity startups']\n",
      "\n",
      "\n",
      "\n"
     ]
    }
   ],
   "source": [
    "for inst in res[0]:\n",
    "    print(inst[0], end=\": \")\n",
    "    print(inst[1])\n",
    "    print()\n",
    "    print()\n",
    "    print()"
   ]
  }
 ],
 "metadata": {
  "kernelspec": {
   "display_name": ".venv",
   "language": "python",
   "name": "python3"
  },
  "language_info": {
   "codemirror_mode": {
    "name": "ipython",
    "version": 3
   },
   "file_extension": ".py",
   "mimetype": "text/x-python",
   "name": "python",
   "nbconvert_exporter": "python",
   "pygments_lexer": "ipython3",
   "version": "3.11.9"
  }
 },
 "nbformat": 4,
 "nbformat_minor": 2
}
