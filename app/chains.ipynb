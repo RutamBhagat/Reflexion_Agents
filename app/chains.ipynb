{
 "cells": [
  {
   "cell_type": "code",
   "execution_count": 36,
   "metadata": {},
   "outputs": [],
   "source": [
    "from dotenv import load_dotenv, find_dotenv\n",
    "\n",
    "_ = load_dotenv(find_dotenv())"
   ]
  },
  {
   "cell_type": "code",
   "execution_count": 37,
   "metadata": {},
   "outputs": [],
   "source": [
    "import datetime\n",
    "from langchain.output_parsers import JsonOutputToolsParser, PydanticToolsParser\n",
    "from langchain.prompts import ChatPromptTemplate, MessagesPlaceholder\n",
    "from langchain.schema import HumanMessage\n",
    "from langchain_openai import ChatOpenAI"
   ]
  },
  {
   "cell_type": "code",
   "execution_count": 67,
   "metadata": {},
   "outputs": [],
   "source": [
    "actor_prompt_template = ChatPromptTemplate.from_messages(\n",
    "    [\n",
    "        (\n",
    "            \"system\",\n",
    "            \"\"\"You are an expert researcher.\n",
    "            Current Time: {time}\n",
    "            1. {first_instruction}\n",
    "            2. Reflect and critique your answer. Be severe to maximize improvement.\n",
    "            3. Recommend search queries to research information and improve your answer\n",
    "            (NOTE: You must provide the search queries at all costs)\"\"\"\n",
    "        ),\n",
    "        MessagesPlaceholder(variable_name=\"messages\")\n",
    "    ]\n",
    ")\n",
    "actor_prompt_template = actor_prompt_template.partial(time=lambda:datetime.datetime.now().isoformat())"
   ]
  },
  {
   "cell_type": "code",
   "execution_count": 74,
   "metadata": {},
   "outputs": [],
   "source": [
    "from schemas import AnswerQuestion\n",
    "\n",
    "\n",
    "llm = ChatOpenAI()\n",
    "parser_json = JsonOutputToolsParser(return_id=True)\n",
    "parser_pydantic = PydanticToolsParser(tools=[AnswerQuestion])"
   ]
  },
  {
   "cell_type": "code",
   "execution_count": 75,
   "metadata": {},
   "outputs": [],
   "source": [
    "first_responder_prompt_template = actor_prompt_template.partial(\n",
    "    first_instruction=\"Provide a detailed ~250 word answer\"\n",
    ")"
   ]
  },
  {
   "cell_type": "code",
   "execution_count": 76,
   "metadata": {},
   "outputs": [],
   "source": [
    "first_responder = first_responder_prompt_template | llm.bind_tools(\n",
    "    tools=[AnswerQuestion], tool_choice=\"AnswerQuestion\"\n",
    ")"
   ]
  },
  {
   "cell_type": "code",
   "execution_count": 77,
   "metadata": {},
   "outputs": [],
   "source": [
    "human_message = HumanMessage(\n",
    "    content=\"\"\"Write about AI-Powered SOC / autonomous SOC problem domain\n",
    "    List startups that do that and raised capital\"\"\"\n",
    ")"
   ]
  },
  {
   "cell_type": "code",
   "execution_count": 78,
   "metadata": {},
   "outputs": [],
   "source": [
    "chain = (\n",
    "    first_responder_prompt_template \n",
    "    | llm.bind_tools(tools=[AnswerQuestion], tool_choice=\"AnswerQuestion\")\n",
    "    | parser_pydantic\n",
    ")"
   ]
  },
  {
   "cell_type": "code",
   "execution_count": 79,
   "metadata": {},
   "outputs": [],
   "source": [
    "res = chain.invoke(input={\"messages\": [human_message]})"
   ]
  },
  {
   "cell_type": "code",
   "execution_count": 80,
   "metadata": {},
   "outputs": [
    {
     "name": "stdout",
     "output_type": "stream",
     "text": [
      "answer: AI-powered Security Operations Centers (SOC) or autonomous SOCs leverage artificial intelligence and machine learning algorithms to enhance threat detection, response, and remediation processes. These advanced systems can automatically analyze vast amounts of security data, identify patterns, and respond to security incidents in real-time, reducing manual intervention and response time. They enable proactive threat hunting, anomaly detection, and automated incident response, making cybersecurity operations more efficient and effective. Some notable startups in this domain include Darktrace, which has raised significant capital for its AI-driven cybersecurity solutions, and Securonix, a company that offers AI-based security analytics for threat detection and response. These startups have attracted investments due to the increasing demand for advanced cybersecurity solutions that can combat evolving cyber threats effectively.\n",
      "\n",
      "\n",
      "\n",
      "reflection: missing='The answer could benefit from specific examples of AI-powered SOC features and functionalities, as well as a deeper analysis of the challenges and benefits of autonomous SOCs.' superfluous=''\n",
      "\n",
      "\n",
      "\n",
      "search_queries: ['AI-powered SOC features and functionalities', 'Challenges of autonomous SOCs', 'Benefits of AI-driven cybersecurity solutions']\n",
      "\n",
      "\n",
      "\n"
     ]
    }
   ],
   "source": [
    "for inst in res[0]:\n",
    "    print(inst[0], end=\": \")\n",
    "    print(inst[1])\n",
    "    print()\n",
    "    print()\n",
    "    print()"
   ]
  },
  {
   "cell_type": "code",
   "execution_count": null,
   "metadata": {},
   "outputs": [],
   "source": []
  }
 ],
 "metadata": {
  "kernelspec": {
   "display_name": ".venv",
   "language": "python",
   "name": "python3"
  },
  "language_info": {
   "codemirror_mode": {
    "name": "ipython",
    "version": 3
   },
   "file_extension": ".py",
   "mimetype": "text/x-python",
   "name": "python",
   "nbconvert_exporter": "python",
   "pygments_lexer": "ipython3",
   "version": "3.11.9"
  }
 },
 "nbformat": 4,
 "nbformat_minor": 2
}
