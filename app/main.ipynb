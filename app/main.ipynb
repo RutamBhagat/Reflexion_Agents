{
 "cells": [
  {
   "cell_type": "code",
   "execution_count": 105,
   "metadata": {},
   "outputs": [],
   "source": [
    "from dotenv import load_dotenv, find_dotenv\n",
    "\n",
    "_ = load_dotenv(find_dotenv())"
   ]
  },
  {
   "cell_type": "code",
   "execution_count": 106,
   "metadata": {},
   "outputs": [],
   "source": [
    "from typing import Sequence\n",
    "from langchain.schema import BaseMessage, HumanMessage\n",
    "from langgraph.graph import END, MessageGraph\n",
    "from chains import generation_chain, reflection_chain"
   ]
  },
  {
   "cell_type": "code",
   "execution_count": 107,
   "metadata": {},
   "outputs": [],
   "source": [
    "REFLECT = \"reflect\"\n",
    "GENERATE = \"generate\""
   ]
  },
  {
   "cell_type": "code",
   "execution_count": 168,
   "metadata": {},
   "outputs": [],
   "source": [
    "def generation_node(state: Sequence[BaseMessage]):\n",
    "    print(f\"Node 1:_____________ GENERATION NODE _____________\")\n",
    "    res = generation_chain.invoke({\"messages\": state})\n",
    "    print(res.content)\n",
    "    print()\n",
    "    print()\n",
    "    print()\n",
    "    return res"
   ]
  },
  {
   "cell_type": "code",
   "execution_count": 169,
   "metadata": {},
   "outputs": [],
   "source": [
    "def reflection_node(state: Sequence[BaseMessage]):\n",
    "    print(f\"Node 2:______________ REFLECTION NODE ____________\")\n",
    "    res = reflection_chain.invoke({\"messages\": state})\n",
    "    print(res.content) \n",
    "    print()\n",
    "    print()\n",
    "    print()\n",
    "    return [HumanMessage(content=res.content)]"
   ]
  },
  {
   "cell_type": "code",
   "execution_count": 170,
   "metadata": {},
   "outputs": [],
   "source": [
    "builder = MessageGraph()"
   ]
  },
  {
   "cell_type": "code",
   "execution_count": 171,
   "metadata": {},
   "outputs": [],
   "source": [
    "builder.add_node(GENERATE, generation_node)\n",
    "builder.add_node(REFLECT, reflection_node)"
   ]
  },
  {
   "cell_type": "code",
   "execution_count": 172,
   "metadata": {},
   "outputs": [],
   "source": [
    "builder.set_entry_point(GENERATE)"
   ]
  },
  {
   "cell_type": "code",
   "execution_count": 173,
   "metadata": {},
   "outputs": [],
   "source": [
    "def should_continue(state: Sequence[BaseMessage]):\n",
    "    print(f\"Conditional Edge:_____________ SHOULD CONTINUE EDGE _____________\")\n",
    "    if 6 <= len(state):\n",
    "        print(f\"Path 2:_____________ END _____________\")\n",
    "        return END\n",
    "    print(f\"Path 1:_____________ REFLECT_____________\")\n",
    "    print()\n",
    "    print()\n",
    "    print()\n",
    "    return REFLECT"
   ]
  },
  {
   "cell_type": "code",
   "execution_count": 174,
   "metadata": {},
   "outputs": [],
   "source": [
    "builder.add_conditional_edges(GENERATE, should_continue)"
   ]
  },
  {
   "cell_type": "code",
   "execution_count": 175,
   "metadata": {},
   "outputs": [],
   "source": [
    "builder.add_edge(REFLECT, GENERATE)"
   ]
  },
  {
   "cell_type": "code",
   "execution_count": 176,
   "metadata": {},
   "outputs": [],
   "source": [
    "graph = builder.compile()"
   ]
  },
  {
   "cell_type": "code",
   "execution_count": 47,
   "metadata": {},
   "outputs": [
    {
     "data": {
      "image/jpeg": "[encoded data removed]",
      "text/plain": [
       "<IPython.core.display.Image object>"
      ]
     },
     "metadata": {},
     "output_type": "display_data"
    }
   ],
   "source": [
    "from IPython.display import Image, display\n",
    "\n",
    "try:\n",
    "    # This will only work in .ipynb\n",
    "    display(Image(graph.get_graph(xray=True).draw_mermaid_png()))\n",
    "    # raise FileNotFoundError(\"File not found!\")  # Throw FileNotFoundError\n",
    "except:\n",
    "    # This requires some extra dependencies and is optional\n",
    "    print(\"NOTE: You need to paste this output in mermaid live editor to see the graph!\")\n",
    "    print(graph.get_graph().draw_mermaid())"
   ]
  },
  {
   "cell_type": "code",
   "execution_count": 177,
   "metadata": {},
   "outputs": [],
   "source": [
    "inputs = HumanMessage(content=\"\"\"Make this tweet better: \n",
    "                      OpenAI released function calling a few months ago, \n",
    "                      and it's been a major  upgrade for AI projects. \n",
    "                      It's a new  capability that connects language models to external functions, \n",
    "                      enabling  them to access external info and perform complex tasks. \n",
    "                      Let's dive into this thread 🧵!\"\"\")"
   ]
  },
  {
   "cell_type": "code",
   "execution_count": 178,
   "metadata": {},
   "outputs": [
    {
     "name": "stdout",
     "output_type": "stream",
     "text": [
      "Node 1:_____________ GENERATION NODE _____________\n",
      "\"Exciting news from OpenAI! Their latest function calling feature, released a few months back, has revolutionized AI projects. This new capability seamlessly connects language models to external functions, unlocking access to external data and enabling the execution of intricate tasks. Dive into this thread with me 🧵! #OpenAI #AI #Innovation\"\n",
      "\n",
      "\n",
      "\n",
      "Conditional Edge:_____________ SHOULD CONTINUE EDGE _____________\n",
      "Path 1:_____________ REFLECT_____________\n",
      "\n",
      "\n",
      "\n",
      "Node 2:______________ REFLECTION NODE ____________\n",
      "This revised tweet captures the essence of OpenAI's new function calling feature effectively. To enhance the tweet further, consider the following recommendations:\n",
      "\n",
      "1. **Engaging Opener**: Begin the tweet with a catchy and engaging opener to capture the audience's attention. For example, using phrases like \"Big news!\" or \"Exciting update!\" can generate curiosity and interest right from the start.\n",
      "\n",
      "2. **Incorporate Visuals**: Including a relevant image, GIF, or video related to the function calling feature can make the tweet more visually appealing and increase engagement. Visual content often attracts more attention on social media platforms.\n",
      "\n",
      "3. **Call to Action**: Encourage your audience to take a specific action related to the topic. For example, you could prompt them to share their thoughts, ask questions, or explore the feature themselves. A call to action can drive interaction and conversations around the tweet.\n",
      "\n",
      "4. **Hashtags**: Incorporate relevant hashtags such as #OpenAI, #AI, and #Innovation to increase the tweet's visibility and reach a wider audience interested in artificial intelligence and technology advancements.\n",
      "\n",
      "5. **Length**: While the revised tweet is concise and informative, you could consider expanding on the benefits or potential implications of the function calling feature in a follow-up tweet or thread. This can provide more depth and insights for your audience.\n",
      "\n",
      "By implementing these suggestions, you can enhance the tweet's impact, engagement, and overall effectiveness in conveying the significance of OpenAI's function calling feature to your followers.\n",
      "\n",
      "\n",
      "\n",
      "Node 1:_____________ GENERATION NODE _____________\n",
      "\"🚀 Big news from OpenAI! Their latest function calling feature has transformed AI projects, bridging language models with external functions for enhanced capabilities. Discover how this innovation is reshaping the future of AI projects. Dive in with me 🧵! #OpenAI #AI #Innovation #TechTrends\"\n",
      "\n",
      "\n",
      "\n",
      "Conditional Edge:_____________ SHOULD CONTINUE EDGE _____________\n",
      "Path 1:_____________ REFLECT_____________\n",
      "\n",
      "\n",
      "\n",
      "Node 2:______________ REFLECTION NODE ____________\n",
      "This revised tweet incorporates engaging language, a sense of excitement, and relevant hashtags to attract attention and generate interest in OpenAI's function calling feature. To further enhance the tweet, consider the following recommendations:\n",
      "\n",
      "1. **Visual Content**: To make the tweet more visually appealing and increase engagement, consider adding a relevant image, GIF, or video that showcases the function calling feature in action. Visuals can capture the audience's attention and create a stronger impact.\n",
      "\n",
      "2. **Personal Touch**: Consider adding a personal anecdote or insight about how the function calling feature has impacted your work or interests. Sharing a personal connection can make the tweet more relatable and authentic to your followers.\n",
      "\n",
      "3. **Interactive Element**: Encourage your audience to participate by asking a question related to the function calling feature or prompting them to share their experiences with AI projects. Adding an interactive element can spark conversations and increase engagement on the tweet.\n",
      "\n",
      "4. **Length**: While the revised tweet is concise and impactful, you could consider expanding on the benefits or potential applications of the function calling feature in a follow-up tweet or thread. Providing additional information can enrich the conversation and provide more value to your audience.\n",
      "\n",
      "Incorporating these recommendations can help elevate the tweet's engagement, relevance, and overall impact on your followers, driving more interactions and discussions around OpenAI's innovative feature.\n",
      "\n",
      "\n",
      "\n",
      "Node 1:_____________ GENERATION NODE _____________\n",
      "🚀 Exciting news! OpenAI's function calling feature is revolutionizing AI projects by connecting language models with external functions for enhanced capabilities. How has this innovation impacted your work? Share your thoughts as we explore the future of AI together 🧵! #OpenAI #AI #Innovation #TechTrends\n",
      "\n",
      "\n",
      "\n",
      "Conditional Edge:_____________ SHOULD CONTINUE EDGE _____________\n",
      "Path 2:_____________ END _____________\n"
     ]
    }
   ],
   "source": [
    "response = graph.invoke(inputs)"
   ]
  },
  {
   "cell_type": "code",
   "execution_count": 179,
   "metadata": {},
   "outputs": [
    {
     "name": "stdout",
     "output_type": "stream",
     "text": [
      "🚀 Exciting news! OpenAI's function calling feature is revolutionizing AI projects by connecting language models with external functions for enhanced capabilities. How has this innovation impacted your work? Share your thoughts as we explore the future of AI together 🧵! #OpenAI #AI #Innovation #TechTrends\n"
     ]
    }
   ],
   "source": [
    "print(response[-1].content)"
   ]
  }
 ],
 "metadata": {
  "kernelspec": {
   "display_name": ".venv",
   "language": "python",
   "name": "python3"
  },
  "language_info": {
   "codemirror_mode": {
    "name": "ipython",
    "version": 3
   },
   "file_extension": ".py",
   "mimetype": "text/x-python",
   "name": "python",
   "nbconvert_exporter": "python",
   "pygments_lexer": "ipython3",
   "version": "3.11.9"
  }
 },
 "nbformat": 4,
 "nbformat_minor": 2
}
