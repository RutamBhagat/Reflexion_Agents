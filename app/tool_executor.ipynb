{
 "cells": [
  {
   "cell_type": "code",
   "execution_count": 14,
   "metadata": {},
   "outputs": [],
   "source": [
    "from dotenv import load_dotenv, find_dotenv\n",
    "\n",
    "_ = load_dotenv(find_dotenv())"
   ]
  },
  {
   "cell_type": "code",
   "execution_count": 15,
   "metadata": {},
   "outputs": [],
   "source": [
    "from typing import List\n",
    "\n",
    "from langchain.schema import AIMessage, BaseMessage\n",
    "from langchain_core.messages import ToolMessage\n",
    "\n",
    "\n",
    "def execute_tools(state: List[BaseMessage]) -> List[ToolMessage]:\n",
    "    tool_invocation: AIMessage = state[-1]\n",
    "    pass"
   ]
  },
  {
   "cell_type": "code",
   "execution_count": 16,
   "metadata": {},
   "outputs": [],
   "source": [
    "from langchain.schema import HumanMessage\n",
    "\n",
    "\n",
    "human_message = HumanMessage(\n",
    "    content=\"\"\"Write about AI-Powered SOC / autonomous SOC problem domain, \n",
    "    list startups that do that and raised capital\"\"\"\n",
    ")"
   ]
  },
  {
   "cell_type": "code",
   "execution_count": 17,
   "metadata": {},
   "outputs": [],
   "source": [
    "from schemas import AnswerQuestion, Reflection\n",
    "\n",
    "\n",
    "answer = AnswerQuestion(\n",
    "    answer=\"\",\n",
    "    reflection=Reflection(missing=\"\", superfluous=\"\"),\n",
    "    search_queries=[\n",
    "        \"AI-powered SOC startups funding\",\n",
    "        \"AI SOC problem domain specifics\",\n",
    "        \"Technologies used by AI-powered SOC startups\",\n",
    "    ],\n",
    "    id=\"call_KpYHichFFEmLitHFvEhKy1Ra\"\n",
    ")"
   ]
  },
  {
   "cell_type": "code",
   "execution_count": 18,
   "metadata": {},
   "outputs": [],
   "source": [
    "from langchain.schema import AIMessage\n",
    "\n",
    "\n",
    "raw_res = execute_tools(\n",
    "    state=[\n",
    "        human_message,\n",
    "        AIMessage(\n",
    "            content=\"\",\n",
    "            tool_calls=[\n",
    "                {\n",
    "                    \"name\": AnswerQuestion.__name__,\n",
    "                    \"args\": answer.dict(),\n",
    "                    \"id\": \"call_KpYHichFFEmLitHFvEhKy1Ra\"\n",
    "                }\n",
    "            ]\n",
    "        )\n",
    "    ]\n",
    ")"
   ]
  },
  {
   "cell_type": "code",
   "execution_count": 19,
   "metadata": {},
   "outputs": [
    {
     "name": "stdout",
     "output_type": "stream",
     "text": [
      "None\n"
     ]
    }
   ],
   "source": [
    "print(raw_res)"
   ]
  },
  {
   "cell_type": "code",
   "execution_count": null,
   "metadata": {},
   "outputs": [],
   "source": []
  }
 ],
 "metadata": {
  "kernelspec": {
   "display_name": ".venv",
   "language": "python",
   "name": "python3"
  },
  "language_info": {
   "codemirror_mode": {
    "name": "ipython",
    "version": 3
   },
   "file_extension": ".py",
   "mimetype": "text/x-python",
   "name": "python",
   "nbconvert_exporter": "python",
   "pygments_lexer": "ipython3",
   "version": "3.11.9"
  }
 },
 "nbformat": 4,
 "nbformat_minor": 2
}
