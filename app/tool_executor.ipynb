{
 "cells": [
  {
   "cell_type": "code",
   "execution_count": 3,
   "metadata": {},
   "outputs": [],
   "source": [
    "from dotenv import load_dotenv, find_dotenv\n",
    "from langchain.tools.tavily_search import TavilySearchResults\n",
    "from langgraph.prebuilt import ToolExecutor\n",
    "from langchain_community.utilities.tavily_search import TavilySearchAPIWrapper\n",
    "\n",
    "_ = load_dotenv(find_dotenv())\n",
    "\n",
    "search = TavilySearchAPIWrapper()\n",
    "tavily_tool = TavilySearchResults(api_wrapper=search, max_results=5)\n",
    "tool_executor = ToolExecutor([tavily_tool])"
   ]
  },
  {
   "cell_type": "code",
   "execution_count": 4,
   "metadata": {},
   "outputs": [
    {
     "name": "stdout",
     "output_type": "stream",
     "text": [
      "answer: AI-Powered Security Operations Centers (SOCs) or Autonomous SOCs leverage artificial intelligence and machine learning algorithms to enhance cybersecurity threat detection, response, and mitigation processes. These solutions can autonomously analyze vast amounts of security data, identify anomalies, and respond to threats in real-time, reducing manual intervention and improving overall security posture. They offer proactive threat hunting capabilities, incident response automation, and continuous monitoring to combat sophisticated cyber threats effectively.\n",
      "\n",
      "Some startups leading in this domain include Darktrace, which raised over $200 million in funding, focusing on AI-driven cybersecurity solutions for threat detection. Another notable startup is Vectra AI, securing $100 million to develop AI-powered cybersecurity solutions for threat detection and response. SentinelOne is also prominent, with a raised capital of $267 million, specializing in autonomous endpoint security and detection platform. These startups are at the forefront of revolutionizing cybersecurity with AI technologies in SOC operations.\n",
      "\n",
      "\n",
      "\n",
      "reflection: missing='The answer could benefit from providing more specific examples of how AI enhances SOC operations and the challenges faced in implementing AI in SOC environments.' superfluous=''\n",
      "\n",
      "\n",
      "\n",
      "search_queries: ['Benefits of AI in SOC operations', 'Challenges of implementing AI in SOC environments', 'List of AI-powered SOC startups', 'Funding rounds of AI cybersecurity startups']\n",
      "\n",
      "\n",
      "\n"
     ]
    }
   ],
   "source": [
    "import json\n",
    "from collections import defaultdict\n",
    "from typing import List\n",
    "\n",
    "from langchain.schema import AIMessage, BaseMessage\n",
    "from langchain_core.messages import ToolMessage\n",
    "from langgraph.prebuilt import ToolInvocation\n",
    "from chains import parser_json\n",
    "\n",
    "\n",
    "def execute_tools(state: List[BaseMessage]) -> List[ToolMessage]:\n",
    "    tool_invocation: AIMessage = state[-1]\n",
    "    parsed_tool_calls = parser_json.invoke(tool_invocation)\n",
    "\n",
    "    ids = []\n",
    "    tool_invocations = []\n",
    "\n",
    "    for parsed_call in parsed_tool_calls:\n",
    "        for query in parsed_call[\"args\"][\"search_queries\"]:\n",
    "            tool_invocations.append(ToolInvocation(\n",
    "                tool=\"tavily_search_results_json\",\n",
    "                tool_input=query\n",
    "            ))\n",
    "            ids.append(parsed_call[\"id\"])\n",
    "    outputs = tool_executor.batch(tool_invocations)\n",
    "\n",
    "    # Map each output to its corresponding ID and tool input\n",
    "    outputs_map = defaultdict(dict)\n",
    "    for id_, output, invocation in zip(ids, outputs, tool_invocations):\n",
    "        outputs_map[id_][invocation.tool_input] = output\n",
    "    \n",
    "    # Convert the mapped outputs to ToolMessage objects\n",
    "    tool_messages = []\n",
    "    for id_, mapped_output in outputs_map.items():\n",
    "        tool_messages.append(ToolMessage(\n",
    "            content=json.dumps(mapped_output),\n",
    "            tool_call_id=id_\n",
    "        ))\n",
    "    return tool_messages"
   ]
  },
  {
   "cell_type": "code",
   "execution_count": 5,
   "metadata": {},
   "outputs": [],
   "source": [
    "from langchain.schema import HumanMessage\n",
    "\n",
    "\n",
    "human_message = HumanMessage(\n",
    "    content=\"\"\"Write about AI-Powered SOC / autonomous SOC problem domain, \n",
    "    list startups that do that and raised capital\"\"\"\n",
    ")"
   ]
  },
  {
   "cell_type": "code",
   "execution_count": 6,
   "metadata": {},
   "outputs": [],
   "source": [
    "from schemas import AnswerQuestion, Reflection\n",
    "\n",
    "\n",
    "answer = AnswerQuestion(\n",
    "    answer=\"\",\n",
    "    reflection=Reflection(missing=\"\", superfluous=\"\"),\n",
    "    search_queries=[\n",
    "        \"AI-powered SOC startups funding\",\n",
    "        \"AI SOC problem domain specifics\",\n",
    "        \"Technologies used by AI-powered SOC startups\",\n",
    "    ],\n",
    "    id=\"call_KpYHichFFEmLitHFvEhKy1Ra\"\n",
    ")"
   ]
  },
  {
   "cell_type": "code",
   "execution_count": 7,
   "metadata": {},
   "outputs": [],
   "source": [
    "from langchain.schema import AIMessage\n",
    "\n",
    "\n",
    "raw_res = execute_tools(\n",
    "    state=[\n",
    "        human_message,\n",
    "        AIMessage(\n",
    "            content=\"\",\n",
    "            tool_calls=[\n",
    "                {\n",
    "                    \"name\": AnswerQuestion.__name__,\n",
    "                    \"args\": answer.dict(),\n",
    "                    \"id\": \"call_KpYHichFFEmLitHFvEhKy1Ra\"\n",
    "                }\n",
    "            ]\n",
    "        )\n",
    "    ]\n",
    ")"
   ]
  },
  {
   "cell_type": "code",
   "execution_count": 8,
   "metadata": {},
   "outputs": [
    {
     "name": "stdout",
     "output_type": "stream",
     "text": [
      "[ToolMessage(content='{\"AI-powered SOC startups funding\": [{\"url\": \"https://venturebeat.com/security/crowdstrike-launches-advanced-siem-to-power-the-ai-native-soc-at-rsac-2024/\", \"content\": \"Charlotte AI for all Falcon Data: Charlotte AI, CrowdStrike\\'s Generative AI security analyst, is now available for Falcon data in Next Gen SIEM. SOC analysts can ask for Falcon data in the ...\"}, {\"url\": \"https://www.statista.com/chart/32063/top-8-ai-startups-worldwide-according-to-capital-invested/\", \"content\": \"The sole outlier, Mistral AI, a French company founded just a year ago by former Meta and Google DeepMind employees, has already raised $544 million in capital in less than twelve months. Looking ...\"}, {\"url\": \"https://www.securityweek.com/radiant-snags-15-million-for-ai-powered-soc-technology/\", \"content\": \"November 14, 2023. Radiant Security, a San Francisco startup with ambitious plans to modernize SOC (security operations center) technology with AI co-pilots, has attracted $15 million in new financing as investors double down on early stage companies experimenting with new forms of automation. The company said the Series A financing was led by ...\"}, {\"url\": \"https://techcrunch.com/2024/04/04/sima-ai-70m-funding-multimodal-genai-chip/\", \"content\": \"The startup touts that its current generation of the ML SoC delivered the highest FPS/W results on the MLPerf benchmark across the MLPerf Inference 4.0 closed, edge and power division categories.\"}, {\"url\": \"https://www.eu-startups.com/2024/05/london-based-nory-raises-e14-7-million-series-a-to-spearhead-ai-across-the-hospitality-industry/\", \"content\": \"Nory, an AI powered operating system for hospitality businesses, has secured \\\\u20ac14.7 million in Series A funding round led by Accel, taking its total raised to $25 million, following 400% revenue growth in 2023.Existing investors Cavalry, Playfair, Samaipata and Triplepoint also participated in the round. This investment will be used to accelerate product development and international expansion.\"}], \"AI SOC problem domain specifics\": [{\"url\": \"https://ieeexplore.ieee.org/document/9923818\", \"content\": \"Building domain-specific accelerators is becoming increasingly paramount to meet the high-performance requirements under stringent power and real-time constraints. However, emerging application domains like autonomous vehicles are complex systems with constraints extending beyond the computing stack. Manually selecting and navigating the design space to design custom and efficient domain ...\"}, {\"url\": \"https://medium.com/ai-horizons/generative-ai-episode-9-the-rise-of-domain-specific-large-language-models-0f50ba99d4d9\", \"content\": \"Written by Aruna Pattam, Head \\\\u2014 Generative AI Analytics & Data Science, Insights & Data, Asia Pacific region, Capgemini. In the rapidly evolving world of artificial intelligence, Large Language\\\\u2026\"}, {\"url\": \"https://cloud.google.com/blog/products/ai-machine-learning/three-step-design-pattern-for-specializing-llms/\", \"content\": \"Prompt engineering, RAG, and fine-tuning can offer a three-step approach for building domain-specific LLMs. Step 1: Prompt engineering. Prompt engineering is the quickest way to extract domain-specific knowledge from a generic LLM without modifying its architecture or undergoing retraining. This technique involves crafting questions or prompts ...\"}, {\"url\": \"https://ieeexplore.ieee.org/document/10133942\", \"content\": \"The continue evolving AI algorithms and new market requirements also make the chip design even harder. In this session, we will review the main phase of AI SoC design where should be considered, and the best practices of the joint AI Chip Design Lab with ITRI. The reference design flow that helps to exploring the optimized AI SoC architecture.\"}, {\"url\": \"https://thedatascientist.com/5-best-examples-of-domain-specific-llms-in-ai/\", \"content\": \"Here\\'s a great example of legal-specific LLM: Paxton AI. Paxton AI is an innovative legal language model. It uses artificial intelligence to transform the way legal professionals handle a wide range of tasks \\\\u2014 from contract review and document drafting to comprehensive legal research and analysis.\"}], \"Technologies used by AI-powered SOC startups\": [{\"url\": \"https://venturebeat.com/security/crowdstrike-launches-advanced-siem-to-power-the-ai-native-soc-at-rsac-2024/\", \"content\": \"The goal: Bend time in favor of defenders. In launching a series of CrowdStrike Falcon Next-Gen SIEM innovations last week at RSAC 2024, Kurtz went all in on why it\\'s so important that defenders ...\"}, {\"url\": \"https://eventussecurity.com/cybersecurity/soc/ai-ml/\", \"content\": \"Behavioral Analytics in AI-powered SOC. Understanding User Behavior with AI: ... Emerging Technologies in AI and Security: We are seeing a shift towards the usage of customized generative AI models in business use cases, moving away from massive, general-purpose tools. The demand for AI systems that cater to specific and unique requirements ...\"}, {\"url\": \"https://www.linkedin.com/pulse/rise-ai-powered-soc-tools-revolutionizing-security-operations-j3smc\", \"content\": \"The SOC of the Future is AI-Driven. AI is reshaping Security Operations Centers, paving the way for faster, more efficient, and intelligent defenses. With benefits ranging from heightened threat ...\"}, {\"url\": \"https://cybersecurity.att.com/blogs/security-essentials/the-modern-next-gen-soc-powered-byai\", \"content\": \"The modern next gen SOC powered by AI. AI is among the most disruptive technologies of our time. While AI/ML has been around for decades, it has become a hot topic with continued innovations in generative AI (GenAI) from start-up OpenAI to tech giants like Microsoft, Google, and Meta. When large language models (LLMs) combined with big data and ...\"}, {\"url\": \"https://news.sophos.com/en-us/2022/07/20/building-the-ai-assisted-soc-sophos-five-year-perspective/\", \"content\": \"Table 3: Sophos\\' five-year plan for achieving the AI-assisted SOC. First, delivering the AI-assisted SOC will require substantial innovation along multiple fronts, but won\\'t require research miracles. Indeed, there are mature existence proofs outside of security for every technology that we are developing.\"}]}', tool_call_id='call_KpYHichFFEmLitHFvEhKy1Ra')]\n"
     ]
    }
   ],
   "source": [
    "print(raw_res)"
   ]
  },
  {
   "cell_type": "code",
   "execution_count": null,
   "metadata": {},
   "outputs": [],
   "source": []
  }
 ],
 "metadata": {
  "kernelspec": {
   "display_name": ".venv",
   "language": "python",
   "name": "python3"
  },
  "language_info": {
   "codemirror_mode": {
    "name": "ipython",
    "version": 3
   },
   "file_extension": ".py",
   "mimetype": "text/x-python",
   "name": "python",
   "nbconvert_exporter": "python",
   "pygments_lexer": "ipython3",
   "version": "3.11.9"
  }
 },
 "nbformat": 4,
 "nbformat_minor": 2
}
